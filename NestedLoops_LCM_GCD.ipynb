{
  "nbformat": 4,
  "nbformat_minor": 0,
  "metadata": {
    "colab": {
      "provenance": [],
      "authorship_tag": "ABX9TyMezImdESIAEEolGtUfaKAJ",
      "include_colab_link": true
    },
    "kernelspec": {
      "name": "python3",
      "display_name": "Python 3"
    },
    "language_info": {
      "name": "python"
    }
  },
  "cells": [
    {
      "cell_type": "markdown",
      "metadata": {
        "id": "view-in-github",
        "colab_type": "text"
      },
      "source": [
        "<a href=\"https://colab.research.google.com/github/Shashankmenon21/python/blob/main/NestedLoops_LCM_GCD.ipynb\" target=\"_parent\"><img src=\"https://colab.research.google.com/assets/colab-badge.svg\" alt=\"Open In Colab\"/></a>"
      ]
    },
    {
      "cell_type": "code",
      "execution_count": 8,
      "metadata": {
        "colab": {
          "base_uri": "https://localhost:8080/"
        },
        "id": "y_xVcch0dwuT",
        "outputId": "b4d8cbbd-0994-4a06-dcf7-d3d4150695cb"
      },
      "outputs": [
        {
          "output_type": "stream",
          "name": "stdout",
          "text": [
            "1 3 7 13 21 31 43 "
          ]
        }
      ],
      "source": [
        "i=1\n",
        "n=1\n",
        "while(i<44):\n",
        "  print(i,end=\" \")\n",
        "  i=i+2*n\n",
        "  n+=1"
      ]
    },
    {
      "cell_type": "code",
      "source": [
        "print(\"Type 5 to exit\")\n",
        "count=0\n",
        "\n",
        "while(True):\n",
        "  num=int(input())\n",
        "  count+=1\n",
        "  if(num==5):\n",
        "    break\n",
        "  else:\n",
        "    continue\n",
        "\n",
        "\n"
      ],
      "metadata": {
        "id": "d_QCshzPjpqs",
        "outputId": "d9480470-54d9-4adc-eea9-9392eca25024",
        "colab": {
          "base_uri": "https://localhost:8080/"
        }
      },
      "execution_count": 4,
      "outputs": [
        {
          "name": "stdout",
          "output_type": "stream",
          "text": [
            "Type 5 to exit\n",
            "3\n",
            "4\n",
            "5\n"
          ]
        }
      ]
    },
    {
      "cell_type": "code",
      "source": [
        "num=int(input())\n",
        "for i in range(num) :\n",
        "  for j in range(num):\n",
        "    print(\"*\", end=\" \")\n",
        "  print()"
      ],
      "metadata": {
        "id": "dADrSKhEovXj",
        "outputId": "88813f89-b73d-4bd2-96fc-191ed56aebef",
        "colab": {
          "base_uri": "https://localhost:8080/"
        }
      },
      "execution_count": 10,
      "outputs": [
        {
          "output_type": "stream",
          "name": "stdout",
          "text": [
            "5\n",
            "* * * * * \n",
            "* * * * * \n",
            "* * * * * \n",
            "* * * * * \n",
            "* * * * * \n"
          ]
        }
      ]
    },
    {
      "cell_type": "code",
      "source": [
        "\n",
        "for i in range(16,1,-1):\n",
        "  if(16%i==0 and 24%i==0):\n",
        "    print(i)\n",
        "    break\n"
      ],
      "metadata": {
        "id": "vHFE9k0HpEBG",
        "outputId": "55c53049-14e4-4ef8-9056-0ca104204de7",
        "colab": {
          "base_uri": "https://localhost:8080/"
        }
      },
      "execution_count": 17,
      "outputs": [
        {
          "output_type": "stream",
          "name": "stdout",
          "text": [
            "8\n"
          ]
        }
      ]
    },
    {
      "cell_type": "code",
      "source": [
        "num1=int(input())\n",
        "num2=int(input())\n",
        "\n",
        "num=max(num1,num2)\n",
        "i=num\n",
        "\n",
        "while(True):\n",
        "\n",
        "  if(i%num1==0 and i%num2==0):\n",
        "    print(\"LCM is : \",i)\n",
        "    break\n",
        "\n",
        "  i+=1\n",
        "\n"
      ],
      "metadata": {
        "id": "QxiIF_wPwWBi",
        "outputId": "450e8e5a-f2da-4e27-9cb8-5066a924538a",
        "colab": {
          "base_uri": "https://localhost:8080/"
        }
      },
      "execution_count": 7,
      "outputs": [
        {
          "output_type": "stream",
          "name": "stdout",
          "text": [
            "6\n",
            "8\n",
            "LCM is :  24\n"
          ]
        }
      ]
    },
    {
      "cell_type": "code",
      "source": [
        "num1=int(input())\n",
        "num2=int(input())\n",
        "\n",
        "num=min(num1,num2)\n",
        "i=num\n",
        "\n",
        "while(True):\n",
        "\n",
        "  if(num1%i==0 and num2%i==0):\n",
        "    print(\"GCD is : \",i)\n",
        "    break\n",
        "\n",
        "  i-=1"
      ],
      "metadata": {
        "id": "m8LSCr1j5Ynf",
        "outputId": "c41f222c-9e03-43fb-dfd6-8880cba0fe0f",
        "colab": {
          "base_uri": "https://localhost:8080/"
        }
      },
      "execution_count": 12,
      "outputs": [
        {
          "output_type": "stream",
          "name": "stdout",
          "text": [
            "30\n",
            "105\n",
            "GCD is :  15\n"
          ]
        }
      ]
    }
  ]
}